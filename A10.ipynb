{
 "cells": [
  {
   "cell_type": "code",
   "execution_count": 1,
   "id": "c7da6eb4",
   "metadata": {},
   "outputs": [
    {
     "name": "stdout",
     "output_type": "stream",
     "text": [
      "📊 Dataset:\n",
      "    STUDY_HOURS  PASS_FAIL\n",
      "0           29          0\n",
      "1           15          0\n",
      "2           33          1\n",
      "3           48          1\n",
      "4           39          1\n",
      "\n",
      "✅ Logistic Regression model trained.\n"
     ]
    }
   ],
   "source": [
    "# ✅ PART 1: Implement logistic regression using Python\n",
    "\n",
    "# Step 1: Import necessary libraries\n",
    "import pandas as pd\n",
    "import numpy as np\n",
    "from sklearn.linear_model import LogisticRegression\n",
    "\n",
    "# Step 2: Create the dataset (study hours and pass/fail data)\n",
    "data = {\n",
    "    'STUDY_HOURS': [29, 15, 33, 48, 39],\n",
    "    'PASS_FAIL': [0, 0, 1, 1, 1]  # 0 = Fail, 1 = Pass\n",
    "}\n",
    "\n",
    "# Step 3: Convert data to DataFrame (table format)\n",
    "df = pd.DataFrame(data)\n",
    "\n",
    "# Step 4: Separate the input (X) and output (y)\n",
    "X = df[['STUDY_HOURS']]  # Study hours (feature/input)\n",
    "y = df['PASS_FAIL']      # Pass/Fail result (label/output)\n",
    "\n",
    "# Step 5: Train the logistic regression model\n",
    "model = LogisticRegression()\n",
    "model.fit(X, y)\n",
    "\n",
    "# Show dataset and model training complete\n",
    "print(\"📊 Dataset:\\n\", df)\n",
    "print(\"\\n✅ Logistic Regression model trained.\")\n"
   ]
  },
  {
   "cell_type": "code",
   "execution_count": 2,
   "id": "3c60533a",
   "metadata": {},
   "outputs": [
    {
     "name": "stdout",
     "output_type": "stream",
     "text": [
      "\n",
      "🔍 Predictions:\n",
      "Student with 25 hours: Fail\n",
      "Student with 42 hours: Pass\n"
     ]
    }
   ],
   "source": [
    "# ✅ PART 2: Predict pass/fail for 25 and 42 study hours (Updated to avoid warning)\n",
    "\n",
    "# Use a DataFrame with the correct column name\n",
    "new_students = pd.DataFrame({'STUDY_HOURS': [25, 42]})\n",
    "predictions = model.predict(new_students)\n",
    "\n",
    "# Show prediction results\n",
    "print(\"\\n🔍 Predictions:\")\n",
    "print(f\"Student with 25 hours: {'Pass' if predictions[0] == 1 else 'Fail'}\")\n",
    "print(f\"Student with 42 hours: {'Pass' if predictions[1] == 1 else 'Fail'}\")\n"
   ]
  },
  {
   "cell_type": "code",
   "execution_count": 3,
   "id": "6051bf99",
   "metadata": {},
   "outputs": [
    {
     "name": "stdout",
     "output_type": "stream",
     "text": [
      "\n",
      "📋 Confusion Matrix Results:\n",
      "True Positives (TP): 3\n",
      "False Positives (FP): 0\n",
      "True Negatives (TN): 2\n",
      "False Negatives (FN): 0\n",
      "\n",
      "📈 Performance Metrics:\n",
      "Accuracy     : 1.0\n",
      "Error Rate   : 0.0\n",
      "Precision    : 1.0\n",
      "Recall       : 1.0\n"
     ]
    }
   ],
   "source": [
    "# ✅ PART 3: Confusion matrix and performance metrics\n",
    "\n",
    "# Step 8: Predict values on original dataset\n",
    "y_pred = model.predict(X)\n",
    "\n",
    "# Step 9: Import metrics and create confusion matrix\n",
    "from sklearn.metrics import confusion_matrix, accuracy_score, precision_score, recall_score\n",
    "\n",
    "# Step 10: Get confusion matrix\n",
    "cm = confusion_matrix(y, y_pred)\n",
    "\n",
    "# Step 11: Extract values from confusion matrix\n",
    "tn, fp, fn, tp = cm.ravel()\n",
    "\n",
    "print(\"\\n📋 Confusion Matrix Results:\")\n",
    "print(\"True Positives (TP):\", tp)\n",
    "print(\"False Positives (FP):\", fp)\n",
    "print(\"True Negatives (TN):\", tn)\n",
    "print(\"False Negatives (FN):\", fn)\n",
    "\n",
    "# Step 12: Calculate Accuracy, Error Rate, Precision, Recall\n",
    "accuracy = accuracy_score(y, y_pred)\n",
    "error_rate = 1 - accuracy\n",
    "precision = precision_score(y, y_pred)\n",
    "recall = recall_score(y, y_pred)\n",
    "\n",
    "# Step 13: Show results\n",
    "print(\"\\n📈 Performance Metrics:\")\n",
    "print(\"Accuracy     :\", round(accuracy, 2))\n",
    "print(\"Error Rate   :\", round(error_rate, 2))\n",
    "print(\"Precision    :\", round(precision, 2))\n",
    "print(\"Recall       :\", round(recall, 2))\n"
   ]
  }
 ],
 "metadata": {
  "kernelspec": {
   "display_name": "Python 3",
   "language": "python",
   "name": "python3"
  },
  "language_info": {
   "codemirror_mode": {
    "name": "ipython",
    "version": 3
   },
   "file_extension": ".py",
   "mimetype": "text/x-python",
   "name": "python",
   "nbconvert_exporter": "python",
   "pygments_lexer": "ipython3",
   "version": "3.13.1"
  }
 },
 "nbformat": 4,
 "nbformat_minor": 5
}
