{
 "cells": [
  {
   "cell_type": "code",
   "execution_count": 1,
   "id": "6c3dbee0",
   "metadata": {},
   "outputs": [],
   "source": [
    "# Descriptive Statistics –\n",
    "# Measures of Central Tendency and variability Perform the following operations on any open source dataset (e.g., employee_2.csv/data.csv)\n",
    "# 1.Provide summary statistics (maximum, standard deviation, covaiance) for a dataset (age, salary etc.) with numeric variables\n",
    "# 2. Grouped by one of the qualitative (categorical) variable. For example, if your categorical variable is age groups and quantitative variable is income, then provide summary statistics of income grouped by the age groups. Create a list that contains a numeric value for each response to the categorical variable. \n",
    "# 3. Perform grouping on and display JOB_ID and it&#39;s count\n",
    "# 4.Show data visualization for any column"
   ]
  },
  {
   "cell_type": "code",
   "execution_count": 1,
   "id": "cb3297bc",
   "metadata": {},
   "outputs": [],
   "source": [
    "import pandas as pd\n",
    "import matplotlib.pyplot as plt\n",
    "import seaborn as sns\n"
   ]
  },
  {
   "cell_type": "code",
   "execution_count": 8,
   "id": "539c49db",
   "metadata": {},
   "outputs": [
    {
     "name": "stdout",
     "output_type": "stream",
     "text": [
      "Preview of data:\n"
     ]
    },
    {
     "data": {
      "text/html": [
       "<div>\n",
       "<style scoped>\n",
       "    .dataframe tbody tr th:only-of-type {\n",
       "        vertical-align: middle;\n",
       "    }\n",
       "\n",
       "    .dataframe tbody tr th {\n",
       "        vertical-align: top;\n",
       "    }\n",
       "\n",
       "    .dataframe thead th {\n",
       "        text-align: right;\n",
       "    }\n",
       "</style>\n",
       "<table border=\"1\" class=\"dataframe\">\n",
       "  <thead>\n",
       "    <tr style=\"text-align: right;\">\n",
       "      <th></th>\n",
       "      <th>Education</th>\n",
       "      <th>JoiningYear</th>\n",
       "      <th>City</th>\n",
       "      <th>PaymentTier</th>\n",
       "      <th>Age</th>\n",
       "      <th>Gender</th>\n",
       "      <th>EverBenched</th>\n",
       "      <th>ExperienceInCurrentDomain</th>\n",
       "      <th>LeaveOrNot</th>\n",
       "      <th>Salary</th>\n",
       "    </tr>\n",
       "  </thead>\n",
       "  <tbody>\n",
       "    <tr>\n",
       "      <th>0</th>\n",
       "      <td>Bachelors</td>\n",
       "      <td>2017</td>\n",
       "      <td>Bangalore</td>\n",
       "      <td>3</td>\n",
       "      <td>34</td>\n",
       "      <td>Male</td>\n",
       "      <td>No</td>\n",
       "      <td>0</td>\n",
       "      <td>0</td>\n",
       "      <td>171369.0</td>\n",
       "    </tr>\n",
       "    <tr>\n",
       "      <th>1</th>\n",
       "      <td>Bachelors</td>\n",
       "      <td>2013</td>\n",
       "      <td>Pune</td>\n",
       "      <td>1</td>\n",
       "      <td>28</td>\n",
       "      <td>Female</td>\n",
       "      <td>No</td>\n",
       "      <td>3</td>\n",
       "      <td>1</td>\n",
       "      <td>136993.0</td>\n",
       "    </tr>\n",
       "    <tr>\n",
       "      <th>2</th>\n",
       "      <td>Bachelors</td>\n",
       "      <td>2014</td>\n",
       "      <td>New Delhi</td>\n",
       "      <td>3</td>\n",
       "      <td>38</td>\n",
       "      <td>Female</td>\n",
       "      <td>No</td>\n",
       "      <td>2</td>\n",
       "      <td>0</td>\n",
       "      <td>113807.0</td>\n",
       "    </tr>\n",
       "    <tr>\n",
       "      <th>3</th>\n",
       "      <td>Masters</td>\n",
       "      <td>2016</td>\n",
       "      <td>Bangalore</td>\n",
       "      <td>3</td>\n",
       "      <td>27</td>\n",
       "      <td>Male</td>\n",
       "      <td>No</td>\n",
       "      <td>5</td>\n",
       "      <td>1</td>\n",
       "      <td>166478.0</td>\n",
       "    </tr>\n",
       "    <tr>\n",
       "      <th>4</th>\n",
       "      <td>Masters</td>\n",
       "      <td>2017</td>\n",
       "      <td>NaN</td>\n",
       "      <td>3</td>\n",
       "      <td>24</td>\n",
       "      <td>Male</td>\n",
       "      <td>Yes</td>\n",
       "      <td>2</td>\n",
       "      <td>1</td>\n",
       "      <td>393136.0</td>\n",
       "    </tr>\n",
       "  </tbody>\n",
       "</table>\n",
       "</div>"
      ],
      "text/plain": [
       "   Education  JoiningYear       City  PaymentTier  Age  Gender EverBenched  \\\n",
       "0  Bachelors         2017  Bangalore            3   34    Male          No   \n",
       "1  Bachelors         2013       Pune            1   28  Female          No   \n",
       "2  Bachelors         2014  New Delhi            3   38  Female          No   \n",
       "3    Masters         2016  Bangalore            3   27    Male          No   \n",
       "4    Masters         2017        NaN            3   24    Male         Yes   \n",
       "\n",
       "   ExperienceInCurrentDomain  LeaveOrNot    Salary  \n",
       "0                          0           0  171369.0  \n",
       "1                          3           1  136993.0  \n",
       "2                          2           0  113807.0  \n",
       "3                          5           1  166478.0  \n",
       "4                          2           1  393136.0  "
      ]
     },
     "execution_count": 8,
     "metadata": {},
     "output_type": "execute_result"
    }
   ],
   "source": [
    "# Replace 'your_dataset.csv' with your actual filename\n",
    "df = pd.read_csv(r'C:\\CODE\\ds\\DS\\DS\\PR_EXAM_DATASET\\Employee_2.csv')\n",
    "\n",
    "# Display the first few rows\n",
    "print(\"Preview of data:\")\n",
    "df.head()\n"
   ]
  },
  {
   "cell_type": "code",
   "execution_count": 9,
   "id": "57723e23",
   "metadata": {},
   "outputs": [
    {
     "name": "stdout",
     "output_type": "stream",
     "text": [
      "\n",
      "--- Maximum Values ---\n",
      "Age           40.0\n",
      "Salary    399785.0\n",
      "dtype: float64\n",
      "\n",
      "--- Standard Deviation ---\n",
      "Age            2.142854\n",
      "Salary    100823.365853\n",
      "dtype: float64\n",
      "\n",
      "--- Covariance Matrix ---\n",
      "                Age        Salary\n",
      "Age        4.591823 -4.897130e+03\n",
      "Salary -4897.130103  1.016535e+10\n"
     ]
    }
   ],
   "source": [
    "print(\"\\n--- Maximum Values ---\")\n",
    "print(df[['Age', 'Salary']].max(numeric_only=True))\n",
    "\n",
    "print(\"\\n--- Standard Deviation ---\")\n",
    "print(df[['Age', 'Salary']].std(numeric_only=True))\n",
    "\n",
    "print(\"\\n--- Covariance Matrix ---\")\n",
    "print(df[['Age', 'Salary']].cov())\n"
   ]
  },
  {
   "cell_type": "code",
   "execution_count": 10,
   "id": "574fcdcb",
   "metadata": {},
   "outputs": [
    {
     "name": "stdout",
     "output_type": "stream",
     "text": [
      "\n",
      "--- Grouped Max Salary by Education ---\n",
      "Education\n",
      "Bachelors    399785.0\n",
      "Masters      398111.0\n",
      "PHD          399612.0\n",
      "Name: Salary, dtype: float64\n",
      "\n",
      "Numeric list of max salaries per Education group:\n",
      "[399785.0, 398111.0, 399612.0]\n"
     ]
    }
   ],
   "source": [
    "print(\"\\n--- Grouped Max Salary by Education ---\")\n",
    "max_salary_grouped = df.groupby('Education')['Salary'].max()\n",
    "print(max_salary_grouped)\n",
    "\n",
    "# Convert to numeric list\n",
    "max_salary_list = max_salary_grouped.dropna().tolist()\n",
    "print(\"\\nNumeric list of max salaries per Education group:\")\n",
    "print(max_salary_list)\n"
   ]
  },
  {
   "cell_type": "code",
   "execution_count": 11,
   "id": "4bf5208a",
   "metadata": {},
   "outputs": [
    {
     "name": "stdout",
     "output_type": "stream",
     "text": [
      "\n",
      "--- Count per Education category (JOB_ID proxy) ---\n",
      "Education\n",
      "Bachelors    1391\n",
      "Masters       353\n",
      "PHD            63\n",
      "Name: count, dtype: int64\n"
     ]
    }
   ],
   "source": [
    "print(\"\\n--- Count per Education category (JOB_ID proxy) ---\")\n",
    "education_counts = df['Education'].value_counts()\n",
    "print(education_counts)\n"
   ]
  },
  {
   "cell_type": "code",
   "execution_count": 13,
   "id": "cad3e651",
   "metadata": {},
   "outputs": [
    {
     "name": "stderr",
     "output_type": "stream",
     "text": [
      "C:\\Users\\tanma\\AppData\\Local\\Temp\\ipykernel_19892\\3494948371.py:2: FutureWarning: \n",
      "\n",
      "Passing `palette` without assigning `hue` is deprecated and will be removed in v0.14.0. Assign the `x` variable to `hue` and set `legend=False` for the same effect.\n",
      "\n",
      "  sns.countplot(x='PaymentTier', data=df, palette='pastel')\n"
     ]
    },
    {
     "data": {
      "image/png": "[encoded data removed]",
      "text/plain": [
       "<Figure size 800x500 with 1 Axes>"
      ]
     },
     "metadata": {},
     "output_type": "display_data"
    }
   ],
   "source": [
    "plt.figure(figsize=(8, 5))\n",
    "sns.countplot(x='PaymentTier', data=df, palette='pastel')\n",
    "plt.title(\"Count of Employees by Payment Tier\")\n",
    "plt.xlabel(\"Payment Tier\")\n",
    "plt.ylabel(\"Count\")\n",
    "plt.show()\n"
   ]
  }
 ],
 "metadata": {
  "kernelspec": {
   "display_name": "Python 3",
   "language": "python",
   "name": "python3"
  },
  "language_info": {
   "codemirror_mode": {
    "name": "ipython",
    "version": 3
   },
   "file_extension": ".py",
   "mimetype": "text/x-python",
   "name": "python",
   "nbconvert_exporter": "python",
   "pygments_lexer": "ipython3",
   "version": "3.13.1"
  }
 },
 "nbformat": 4,
 "nbformat_minor": 5
}
